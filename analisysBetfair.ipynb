{
 "cells": [
  {
   "attachments": {},
   "cell_type": "markdown",
   "metadata": {},
   "source": [
    "# Tratamento e Análise dados Betfair"
   ]
  },
  {
   "cell_type": "code",
   "execution_count": 10,
   "metadata": {},
   "outputs": [],
   "source": [
    "#IMPORTANDO AS BIBLIOTECAS NECESSÃRIAS\n",
    "import pandas as pd"
   ]
  },
  {
   "cell_type": "code",
   "execution_count": 11,
   "metadata": {},
   "outputs": [],
   "source": [
    "# CARREGANDO DATA DO CSV\n",
    "df_bf = pd.read_csv('dados/jogos_BetFair.csv', on_bad_lines='skip') # PULA LINHAS MAL FORMATADAS"
   ]
  },
  {
   "cell_type": "code",
   "execution_count": 13,
   "metadata": {},
   "outputs": [
    {
     "data": {
      "text/html": [
       "<div>\n",
       "<style scoped>\n",
       "    .dataframe tbody tr th:only-of-type {\n",
       "        vertical-align: middle;\n",
       "    }\n",
       "\n",
       "    .dataframe tbody tr th {\n",
       "        vertical-align: top;\n",
       "    }\n",
       "\n",
       "    .dataframe thead th {\n",
       "        text-align: right;\n",
       "    }\n",
       "</style>\n",
       "<table border=\"1\" class=\"dataframe\">\n",
       "  <thead>\n",
       "    <tr style=\"text-align: right;\">\n",
       "      <th></th>\n",
       "      <th>75′</th>\n",
       "      <th>1</th>\n",
       "      <th>0</th>\n",
       "      <th>SUSPENSO</th>\n",
       "      <th>6.0</th>\n",
       "      <th>1.1</th>\n",
       "      <th>SUSPENSO.1</th>\n",
       "      <th>1.02</th>\n",
       "      <th>10.0</th>\n",
       "      <th>100.0</th>\n",
       "      <th>Manchester United</th>\n",
       "      <th>Nottm Forest</th>\n",
       "    </tr>\n",
       "  </thead>\n",
       "  <tbody>\n",
       "    <tr>\n",
       "      <th>0</th>\n",
       "      <td>72′</td>\n",
       "      <td>0</td>\n",
       "      <td>2.00</td>\n",
       "      <td>1.68</td>\n",
       "      <td>2.1</td>\n",
       "      <td>25.0</td>\n",
       "      <td>7.5</td>\n",
       "      <td>1.1</td>\n",
       "      <td>Roma</td>\n",
       "      <td>US Cremonese</td>\n",
       "      <td>NaN</td>\n",
       "      <td>NaN</td>\n",
       "    </tr>\n",
       "    <tr>\n",
       "      <th>1</th>\n",
       "      <td>27′</td>\n",
       "      <td>3</td>\n",
       "      <td>0.00</td>\n",
       "      <td>100.00</td>\n",
       "      <td>250.0</td>\n",
       "      <td>Sport Recife</td>\n",
       "      <td>Afogados Ingazeira</td>\n",
       "      <td>NaN</td>\n",
       "      <td>NaN</td>\n",
       "      <td>NaN</td>\n",
       "      <td>NaN</td>\n",
       "      <td>NaN</td>\n",
       "    </tr>\n",
       "    <tr>\n",
       "      <th>2</th>\n",
       "      <td>16′</td>\n",
       "      <td>1</td>\n",
       "      <td>0.00</td>\n",
       "      <td>1.52</td>\n",
       "      <td>2.4</td>\n",
       "      <td>1.28</td>\n",
       "      <td>4.75</td>\n",
       "      <td>10.0</td>\n",
       "      <td>Sporting CP</td>\n",
       "      <td>Braga</td>\n",
       "      <td>NaN</td>\n",
       "      <td>NaN</td>\n",
       "    </tr>\n",
       "    <tr>\n",
       "      <th>3</th>\n",
       "      <td>74′</td>\n",
       "      <td>0</td>\n",
       "      <td>2.00</td>\n",
       "      <td>1.90</td>\n",
       "      <td>1.82</td>\n",
       "      <td>250.0</td>\n",
       "      <td>70.0</td>\n",
       "      <td>1.001</td>\n",
       "      <td>Montpellier</td>\n",
       "      <td>PSG</td>\n",
       "      <td>NaN</td>\n",
       "      <td>NaN</td>\n",
       "    </tr>\n",
       "    <tr>\n",
       "      <th>4</th>\n",
       "      <td>75′</td>\n",
       "      <td>2</td>\n",
       "      <td>1.00</td>\n",
       "      <td>1.10</td>\n",
       "      <td>8.0</td>\n",
       "      <td>50.0</td>\n",
       "      <td>Não sera</td>\n",
       "      <td>Monaco</td>\n",
       "      <td>Auxerre</td>\n",
       "      <td>NaN</td>\n",
       "      <td>NaN</td>\n",
       "      <td>NaN</td>\n",
       "    </tr>\n",
       "    <tr>\n",
       "      <th>...</th>\n",
       "      <td>...</td>\n",
       "      <td>...</td>\n",
       "      <td>...</td>\n",
       "      <td>...</td>\n",
       "      <td>...</td>\n",
       "      <td>...</td>\n",
       "      <td>...</td>\n",
       "      <td>...</td>\n",
       "      <td>...</td>\n",
       "      <td>...</td>\n",
       "      <td>...</td>\n",
       "      <td>...</td>\n",
       "    </tr>\n",
       "    <tr>\n",
       "      <th>471</th>\n",
       "      <td>03 fev 20:00</td>\n",
       "      <td>2.05</td>\n",
       "      <td>1.68</td>\n",
       "      <td>1.65</td>\n",
       "      <td>3.5</td>\n",
       "      <td>4.75</td>\n",
       "      <td>Será Disponibilizado Ao Vivo</td>\n",
       "      <td>Tigre</td>\n",
       "      <td>Rosario Central</td>\n",
       "      <td>NaN</td>\n",
       "      <td>NaN</td>\n",
       "      <td>NaN</td>\n",
       "    </tr>\n",
       "    <tr>\n",
       "      <th>472</th>\n",
       "      <td>03 fev 20:00</td>\n",
       "      <td>2.2</td>\n",
       "      <td>1.55</td>\n",
       "      <td>2.80</td>\n",
       "      <td>2.9</td>\n",
       "      <td>2.3</td>\n",
       "      <td>Será Disponibilizado Ao Vivo</td>\n",
       "      <td>Tapatio</td>\n",
       "      <td>Celaya</td>\n",
       "      <td>NaN</td>\n",
       "      <td>NaN</td>\n",
       "      <td>NaN</td>\n",
       "    </tr>\n",
       "    <tr>\n",
       "      <th>473</th>\n",
       "      <td>03 fev 20:00</td>\n",
       "      <td>2.5</td>\n",
       "      <td>1.45</td>\n",
       "      <td>2.30</td>\n",
       "      <td>2.9</td>\n",
       "      <td>3.0</td>\n",
       "      <td>Será Disponibilizado Ao Vivo</td>\n",
       "      <td>Newells</td>\n",
       "      <td>Velez Sarsfield</td>\n",
       "      <td>NaN</td>\n",
       "      <td>NaN</td>\n",
       "      <td>NaN</td>\n",
       "    </tr>\n",
       "    <tr>\n",
       "      <th>474</th>\n",
       "      <td>03 fev 20:30</td>\n",
       "      <td>1.55</td>\n",
       "      <td>2.20</td>\n",
       "      <td>2.30</td>\n",
       "      <td>3.5</td>\n",
       "      <td>2.5</td>\n",
       "      <td>Será Disponibilizado Ao Vivo</td>\n",
       "      <td>Santos De Guapiles</td>\n",
       "      <td>Municipal Grecia</td>\n",
       "      <td>NaN</td>\n",
       "      <td>NaN</td>\n",
       "      <td>NaN</td>\n",
       "    </tr>\n",
       "    <tr>\n",
       "      <th>475</th>\n",
       "      <td>03 fev 20:30</td>\n",
       "      <td>1.95</td>\n",
       "      <td>1.72</td>\n",
       "      <td>1.87</td>\n",
       "      <td>3.3</td>\n",
       "      <td>3.75</td>\n",
       "      <td>Será Disponibilizado Ao Vivo</td>\n",
       "      <td>Guarani (Par)</td>\n",
       "      <td>Club Sportivo Ameliano</td>\n",
       "      <td>NaN</td>\n",
       "      <td>NaN</td>\n",
       "      <td>NaN</td>\n",
       "    </tr>\n",
       "  </tbody>\n",
       "</table>\n",
       "<p>476 rows × 12 columns</p>\n",
       "</div>"
      ],
      "text/plain": [
       "              75′     1     0  SUSPENSO    6.0           1.1  \\\n",
       "0             72′     0  2.00      1.68    2.1          25.0   \n",
       "1             27′     3  0.00    100.00  250.0  Sport Recife   \n",
       "2             16′     1  0.00      1.52    2.4          1.28   \n",
       "3             74′     0  2.00      1.90   1.82         250.0   \n",
       "4             75′     2  1.00      1.10    8.0          50.0   \n",
       "..            ...   ...   ...       ...    ...           ...   \n",
       "471  03 fev 20:00  2.05  1.68      1.65    3.5          4.75   \n",
       "472  03 fev 20:00   2.2  1.55      2.80    2.9           2.3   \n",
       "473  03 fev 20:00   2.5  1.45      2.30    2.9           3.0   \n",
       "474  03 fev 20:30  1.55  2.20      2.30    3.5           2.5   \n",
       "475  03 fev 20:30  1.95  1.72      1.87    3.3          3.75   \n",
       "\n",
       "                       SUSPENSO.1                1.02                    10.0  \\\n",
       "0                             7.5                 1.1                    Roma   \n",
       "1              Afogados Ingazeira                 NaN                     NaN   \n",
       "2                            4.75                10.0             Sporting CP   \n",
       "3                            70.0               1.001             Montpellier   \n",
       "4                        Não sera              Monaco                 Auxerre   \n",
       "..                            ...                 ...                     ...   \n",
       "471  Será Disponibilizado Ao Vivo               Tigre         Rosario Central   \n",
       "472  Será Disponibilizado Ao Vivo             Tapatio                  Celaya   \n",
       "473  Será Disponibilizado Ao Vivo             Newells         Velez Sarsfield   \n",
       "474  Será Disponibilizado Ao Vivo  Santos De Guapiles        Municipal Grecia   \n",
       "475  Será Disponibilizado Ao Vivo       Guarani (Par)  Club Sportivo Ameliano   \n",
       "\n",
       "            100.0 Manchester United  Nottm Forest  \n",
       "0    US Cremonese               NaN           NaN  \n",
       "1             NaN               NaN           NaN  \n",
       "2           Braga               NaN           NaN  \n",
       "3             PSG               NaN           NaN  \n",
       "4             NaN               NaN           NaN  \n",
       "..            ...               ...           ...  \n",
       "471           NaN               NaN           NaN  \n",
       "472           NaN               NaN           NaN  \n",
       "473           NaN               NaN           NaN  \n",
       "474           NaN               NaN           NaN  \n",
       "475           NaN               NaN           NaN  \n",
       "\n",
       "[476 rows x 12 columns]"
      ]
     },
     "execution_count": 13,
     "metadata": {},
     "output_type": "execute_result"
    }
   ],
   "source": [
    "df_bf"
   ]
  },
  {
   "attachments": {},
   "cell_type": "markdown",
   "metadata": {},
   "source": [
    "## Tratamento dos dados\n",
    "- Renomear as colunas\n",
    "- Eliminar colunas inuteis\n",
    "- Tratamento dos nulos\n",
    "- Ajuste dos tipos"
   ]
  },
  {
   "cell_type": "code",
   "execution_count": 14,
   "metadata": {},
   "outputs": [],
   "source": [
    "#  hora|   +2,5   | -2,5 | casag| empate| vis_g  |        ao vivo             | casa    | visita\n",
    "# 20:00,   2.0,    1.68,   10.0,  4.75   , 1.24,  Será Disponibilizado Ao Vivo,Esportivo,Grêmio,,,\n",
    "# Renomeando as colunas\n",
    "df_bf.columns = ['data/hora', 'maisq25', 'menosq25',\n",
    "                 'casa_ganha', 'empate', 'visitante_ganha',\n",
    "                 'ao_vivo', 'time_casa', 'time_visitante','x', 'xx', 'xxx'] #não importa o nome pq eu vou apagar"
   ]
  },
  {
   "cell_type": "code",
   "execution_count": 15,
   "metadata": {},
   "outputs": [
    {
     "data": {
      "text/html": [
       "<div>\n",
       "<style scoped>\n",
       "    .dataframe tbody tr th:only-of-type {\n",
       "        vertical-align: middle;\n",
       "    }\n",
       "\n",
       "    .dataframe tbody tr th {\n",
       "        vertical-align: top;\n",
       "    }\n",
       "\n",
       "    .dataframe thead th {\n",
       "        text-align: right;\n",
       "    }\n",
       "</style>\n",
       "<table border=\"1\" class=\"dataframe\">\n",
       "  <thead>\n",
       "    <tr style=\"text-align: right;\">\n",
       "      <th></th>\n",
       "      <th>data/hora</th>\n",
       "      <th>maisq25</th>\n",
       "      <th>menosq25</th>\n",
       "      <th>casa_ganha</th>\n",
       "      <th>empate</th>\n",
       "      <th>visitante_ganha</th>\n",
       "      <th>ao_vivo</th>\n",
       "      <th>time_casa</th>\n",
       "      <th>time_visitante</th>\n",
       "      <th>x</th>\n",
       "      <th>xx</th>\n",
       "      <th>xxx</th>\n",
       "    </tr>\n",
       "  </thead>\n",
       "  <tbody>\n",
       "    <tr>\n",
       "      <th>0</th>\n",
       "      <td>72′</td>\n",
       "      <td>0</td>\n",
       "      <td>2.0</td>\n",
       "      <td>1.68</td>\n",
       "      <td>2.1</td>\n",
       "      <td>25.0</td>\n",
       "      <td>7.5</td>\n",
       "      <td>1.1</td>\n",
       "      <td>Roma</td>\n",
       "      <td>US Cremonese</td>\n",
       "      <td>NaN</td>\n",
       "      <td>NaN</td>\n",
       "    </tr>\n",
       "    <tr>\n",
       "      <th>1</th>\n",
       "      <td>27′</td>\n",
       "      <td>3</td>\n",
       "      <td>0.0</td>\n",
       "      <td>100.00</td>\n",
       "      <td>250.0</td>\n",
       "      <td>Sport Recife</td>\n",
       "      <td>Afogados Ingazeira</td>\n",
       "      <td>NaN</td>\n",
       "      <td>NaN</td>\n",
       "      <td>NaN</td>\n",
       "      <td>NaN</td>\n",
       "      <td>NaN</td>\n",
       "    </tr>\n",
       "    <tr>\n",
       "      <th>2</th>\n",
       "      <td>16′</td>\n",
       "      <td>1</td>\n",
       "      <td>0.0</td>\n",
       "      <td>1.52</td>\n",
       "      <td>2.4</td>\n",
       "      <td>1.28</td>\n",
       "      <td>4.75</td>\n",
       "      <td>10.0</td>\n",
       "      <td>Sporting CP</td>\n",
       "      <td>Braga</td>\n",
       "      <td>NaN</td>\n",
       "      <td>NaN</td>\n",
       "    </tr>\n",
       "    <tr>\n",
       "      <th>3</th>\n",
       "      <td>74′</td>\n",
       "      <td>0</td>\n",
       "      <td>2.0</td>\n",
       "      <td>1.90</td>\n",
       "      <td>1.82</td>\n",
       "      <td>250.0</td>\n",
       "      <td>70.0</td>\n",
       "      <td>1.001</td>\n",
       "      <td>Montpellier</td>\n",
       "      <td>PSG</td>\n",
       "      <td>NaN</td>\n",
       "      <td>NaN</td>\n",
       "    </tr>\n",
       "    <tr>\n",
       "      <th>4</th>\n",
       "      <td>75′</td>\n",
       "      <td>2</td>\n",
       "      <td>1.0</td>\n",
       "      <td>1.10</td>\n",
       "      <td>8.0</td>\n",
       "      <td>50.0</td>\n",
       "      <td>Não sera</td>\n",
       "      <td>Monaco</td>\n",
       "      <td>Auxerre</td>\n",
       "      <td>NaN</td>\n",
       "      <td>NaN</td>\n",
       "      <td>NaN</td>\n",
       "    </tr>\n",
       "    <tr>\n",
       "      <th>5</th>\n",
       "      <td>77′</td>\n",
       "      <td>0</td>\n",
       "      <td>0.0</td>\n",
       "      <td>16.00</td>\n",
       "      <td>2.8</td>\n",
       "      <td>1.6</td>\n",
       "      <td>10.0</td>\n",
       "      <td>Lyon</td>\n",
       "      <td>Brest</td>\n",
       "      <td>NaN</td>\n",
       "      <td>NaN</td>\n",
       "      <td>NaN</td>\n",
       "    </tr>\n",
       "  </tbody>\n",
       "</table>\n",
       "</div>"
      ],
      "text/plain": [
       "  data/hora maisq25  menosq25  casa_ganha empate visitante_ganha  \\\n",
       "0       72′       0       2.0        1.68    2.1            25.0   \n",
       "1       27′       3       0.0      100.00  250.0    Sport Recife   \n",
       "2       16′       1       0.0        1.52    2.4            1.28   \n",
       "3       74′       0       2.0        1.90   1.82           250.0   \n",
       "4       75′       2       1.0        1.10    8.0            50.0   \n",
       "5       77′       0       0.0       16.00    2.8             1.6   \n",
       "\n",
       "              ao_vivo time_casa time_visitante             x   xx  xxx  \n",
       "0                 7.5       1.1           Roma  US Cremonese  NaN  NaN  \n",
       "1  Afogados Ingazeira       NaN            NaN           NaN  NaN  NaN  \n",
       "2                4.75      10.0    Sporting CP         Braga  NaN  NaN  \n",
       "3                70.0     1.001    Montpellier           PSG  NaN  NaN  \n",
       "4            Não sera    Monaco        Auxerre           NaN  NaN  NaN  \n",
       "5                10.0      Lyon          Brest           NaN  NaN  NaN  "
      ]
     },
     "execution_count": 15,
     "metadata": {},
     "output_type": "execute_result"
    }
   ],
   "source": [
    "df_bf.head(6)"
   ]
  },
  {
   "cell_type": "code",
   "execution_count": 16,
   "metadata": {},
   "outputs": [],
   "source": [
    "# Eliminando as colunas inuteis\n",
    "df_bf.drop(['x', 'xx', 'xxx', 'ao_vivo'], axis='columns', inplace=True)"
   ]
  },
  {
   "cell_type": "code",
   "execution_count": 17,
   "metadata": {},
   "outputs": [
    {
     "name": "stdout",
     "output_type": "stream",
     "text": [
      "<class 'pandas.core.frame.DataFrame'>\n",
      "RangeIndex: 476 entries, 0 to 475\n",
      "Data columns (total 8 columns):\n",
      " #   Column           Non-Null Count  Dtype  \n",
      "---  ------           --------------  -----  \n",
      " 0   data/hora        476 non-null    object \n",
      " 1   maisq25          476 non-null    object \n",
      " 2   menosq25         476 non-null    float64\n",
      " 3   casa_ganha       476 non-null    float64\n",
      " 4   empate           476 non-null    object \n",
      " 5   visitante_ganha  476 non-null    object \n",
      " 6   time_casa        432 non-null    object \n",
      " 7   time_visitante   432 non-null    object \n",
      "dtypes: float64(2), object(6)\n",
      "memory usage: 29.9+ KB\n"
     ]
    }
   ],
   "source": [
    "df_bf.info()"
   ]
  },
  {
   "cell_type": "code",
   "execution_count": 18,
   "metadata": {},
   "outputs": [],
   "source": [
    "# Tratando os nulos\n",
    "# REMOVENDO TODAS AS COLUNAS QUE POSSUEM APENAS VALORES NULOS\n",
    "df_semNulo = df_bf.dropna(how = 'all',axis='rows') # type: ignore"
   ]
  },
  {
   "cell_type": "code",
   "execution_count": 19,
   "metadata": {},
   "outputs": [
    {
     "data": {
      "text/html": [
       "<div>\n",
       "<style scoped>\n",
       "    .dataframe tbody tr th:only-of-type {\n",
       "        vertical-align: middle;\n",
       "    }\n",
       "\n",
       "    .dataframe tbody tr th {\n",
       "        vertical-align: top;\n",
       "    }\n",
       "\n",
       "    .dataframe thead th {\n",
       "        text-align: right;\n",
       "    }\n",
       "</style>\n",
       "<table border=\"1\" class=\"dataframe\">\n",
       "  <thead>\n",
       "    <tr style=\"text-align: right;\">\n",
       "      <th></th>\n",
       "      <th>data/hora</th>\n",
       "      <th>maisq25</th>\n",
       "      <th>menosq25</th>\n",
       "      <th>casa_ganha</th>\n",
       "      <th>empate</th>\n",
       "      <th>visitante_ganha</th>\n",
       "      <th>time_casa</th>\n",
       "      <th>time_visitante</th>\n",
       "    </tr>\n",
       "  </thead>\n",
       "  <tbody>\n",
       "    <tr>\n",
       "      <th>0</th>\n",
       "      <td>72′</td>\n",
       "      <td>0</td>\n",
       "      <td>2.0</td>\n",
       "      <td>1.68</td>\n",
       "      <td>2.1</td>\n",
       "      <td>25.0</td>\n",
       "      <td>1.1</td>\n",
       "      <td>Roma</td>\n",
       "    </tr>\n",
       "    <tr>\n",
       "      <th>1</th>\n",
       "      <td>27′</td>\n",
       "      <td>3</td>\n",
       "      <td>0.0</td>\n",
       "      <td>100.00</td>\n",
       "      <td>250.0</td>\n",
       "      <td>Sport Recife</td>\n",
       "      <td>NaN</td>\n",
       "      <td>NaN</td>\n",
       "    </tr>\n",
       "    <tr>\n",
       "      <th>2</th>\n",
       "      <td>16′</td>\n",
       "      <td>1</td>\n",
       "      <td>0.0</td>\n",
       "      <td>1.52</td>\n",
       "      <td>2.4</td>\n",
       "      <td>1.28</td>\n",
       "      <td>10.0</td>\n",
       "      <td>Sporting CP</td>\n",
       "    </tr>\n",
       "    <tr>\n",
       "      <th>3</th>\n",
       "      <td>74′</td>\n",
       "      <td>0</td>\n",
       "      <td>2.0</td>\n",
       "      <td>1.90</td>\n",
       "      <td>1.82</td>\n",
       "      <td>250.0</td>\n",
       "      <td>1.001</td>\n",
       "      <td>Montpellier</td>\n",
       "    </tr>\n",
       "    <tr>\n",
       "      <th>4</th>\n",
       "      <td>75′</td>\n",
       "      <td>2</td>\n",
       "      <td>1.0</td>\n",
       "      <td>1.10</td>\n",
       "      <td>8.0</td>\n",
       "      <td>50.0</td>\n",
       "      <td>Monaco</td>\n",
       "      <td>Auxerre</td>\n",
       "    </tr>\n",
       "    <tr>\n",
       "      <th>5</th>\n",
       "      <td>77′</td>\n",
       "      <td>0</td>\n",
       "      <td>0.0</td>\n",
       "      <td>16.00</td>\n",
       "      <td>2.8</td>\n",
       "      <td>1.6</td>\n",
       "      <td>Lyon</td>\n",
       "      <td>Brest</td>\n",
       "    </tr>\n",
       "  </tbody>\n",
       "</table>\n",
       "</div>"
      ],
      "text/plain": [
       "  data/hora maisq25  menosq25  casa_ganha empate visitante_ganha time_casa  \\\n",
       "0       72′       0       2.0        1.68    2.1            25.0       1.1   \n",
       "1       27′       3       0.0      100.00  250.0    Sport Recife       NaN   \n",
       "2       16′       1       0.0        1.52    2.4            1.28      10.0   \n",
       "3       74′       0       2.0        1.90   1.82           250.0     1.001   \n",
       "4       75′       2       1.0        1.10    8.0            50.0    Monaco   \n",
       "5       77′       0       0.0       16.00    2.8             1.6      Lyon   \n",
       "\n",
       "  time_visitante  \n",
       "0           Roma  \n",
       "1            NaN  \n",
       "2    Sporting CP  \n",
       "3    Montpellier  \n",
       "4        Auxerre  \n",
       "5          Brest  "
      ]
     },
     "execution_count": 19,
     "metadata": {},
     "output_type": "execute_result"
    }
   ],
   "source": [
    "df_semNulo.head(6)"
   ]
  },
  {
   "cell_type": "code",
   "execution_count": 20,
   "metadata": {},
   "outputs": [
    {
     "name": "stdout",
     "output_type": "stream",
     "text": [
      "<class 'pandas.core.frame.DataFrame'>\n",
      "RangeIndex: 476 entries, 0 to 475\n",
      "Data columns (total 8 columns):\n",
      " #   Column           Non-Null Count  Dtype  \n",
      "---  ------           --------------  -----  \n",
      " 0   data/hora        476 non-null    object \n",
      " 1   maisq25          476 non-null    object \n",
      " 2   menosq25         476 non-null    float64\n",
      " 3   casa_ganha       476 non-null    float64\n",
      " 4   empate           476 non-null    object \n",
      " 5   visitante_ganha  476 non-null    object \n",
      " 6   time_casa        432 non-null    object \n",
      " 7   time_visitante   432 non-null    object \n",
      "dtypes: float64(2), object(6)\n",
      "memory usage: 29.9+ KB\n"
     ]
    }
   ],
   "source": [
    "df_semNulo.info()"
   ]
  },
  {
   "cell_type": "code",
   "execution_count": 21,
   "metadata": {},
   "outputs": [
    {
     "ename": "KeyError",
     "evalue": "'data'",
     "output_type": "error",
     "traceback": [
      "\u001b[1;31m---------------------------------------------------------------------------\u001b[0m",
      "\u001b[1;31mKeyError\u001b[0m                                  Traceback (most recent call last)",
      "File \u001b[1;32mc:\\Users\\lucad\\AppData\\Local\\Programs\\Python\\Python311\\Lib\\site-packages\\pandas\\core\\indexes\\base.py:3803\u001b[0m, in \u001b[0;36mIndex.get_loc\u001b[1;34m(self, key, method, tolerance)\u001b[0m\n\u001b[0;32m   3802\u001b[0m \u001b[39mtry\u001b[39;00m:\n\u001b[1;32m-> 3803\u001b[0m     \u001b[39mreturn\u001b[39;00m \u001b[39mself\u001b[39;49m\u001b[39m.\u001b[39;49m_engine\u001b[39m.\u001b[39;49mget_loc(casted_key)\n\u001b[0;32m   3804\u001b[0m \u001b[39mexcept\u001b[39;00m \u001b[39mKeyError\u001b[39;00m \u001b[39mas\u001b[39;00m err:\n",
      "File \u001b[1;32mc:\\Users\\lucad\\AppData\\Local\\Programs\\Python\\Python311\\Lib\\site-packages\\pandas\\_libs\\index.pyx:138\u001b[0m, in \u001b[0;36mpandas._libs.index.IndexEngine.get_loc\u001b[1;34m()\u001b[0m\n",
      "File \u001b[1;32mc:\\Users\\lucad\\AppData\\Local\\Programs\\Python\\Python311\\Lib\\site-packages\\pandas\\_libs\\index.pyx:165\u001b[0m, in \u001b[0;36mpandas._libs.index.IndexEngine.get_loc\u001b[1;34m()\u001b[0m\n",
      "File \u001b[1;32mpandas\\_libs\\hashtable_class_helper.pxi:5745\u001b[0m, in \u001b[0;36mpandas._libs.hashtable.PyObjectHashTable.get_item\u001b[1;34m()\u001b[0m\n",
      "File \u001b[1;32mpandas\\_libs\\hashtable_class_helper.pxi:5753\u001b[0m, in \u001b[0;36mpandas._libs.hashtable.PyObjectHashTable.get_item\u001b[1;34m()\u001b[0m\n",
      "\u001b[1;31mKeyError\u001b[0m: 'data'",
      "\nThe above exception was the direct cause of the following exception:\n",
      "\u001b[1;31mKeyError\u001b[0m                                  Traceback (most recent call last)",
      "Cell \u001b[1;32mIn[21], line 1\u001b[0m\n\u001b[1;32m----> 1\u001b[0m df_semNulo[\u001b[39m'\u001b[39m\u001b[39mdata\u001b[39m\u001b[39m'\u001b[39m] \u001b[39m=\u001b[39m pd\u001b[39m.\u001b[39mto_datetime(df_semNulo[\u001b[39m'\u001b[39;49m\u001b[39mdata\u001b[39;49m\u001b[39m'\u001b[39;49m], \u001b[39mformat\u001b[39m\u001b[39m=\u001b[39m\u001b[39m'\u001b[39m\u001b[39m%d\u001b[39;00m\u001b[39m/\u001b[39m\u001b[39m%\u001b[39m\u001b[39mm\u001b[39m\u001b[39m'\u001b[39m)\n",
      "File \u001b[1;32mc:\\Users\\lucad\\AppData\\Local\\Programs\\Python\\Python311\\Lib\\site-packages\\pandas\\core\\frame.py:3805\u001b[0m, in \u001b[0;36mDataFrame.__getitem__\u001b[1;34m(self, key)\u001b[0m\n\u001b[0;32m   3803\u001b[0m \u001b[39mif\u001b[39;00m \u001b[39mself\u001b[39m\u001b[39m.\u001b[39mcolumns\u001b[39m.\u001b[39mnlevels \u001b[39m>\u001b[39m \u001b[39m1\u001b[39m:\n\u001b[0;32m   3804\u001b[0m     \u001b[39mreturn\u001b[39;00m \u001b[39mself\u001b[39m\u001b[39m.\u001b[39m_getitem_multilevel(key)\n\u001b[1;32m-> 3805\u001b[0m indexer \u001b[39m=\u001b[39m \u001b[39mself\u001b[39;49m\u001b[39m.\u001b[39;49mcolumns\u001b[39m.\u001b[39;49mget_loc(key)\n\u001b[0;32m   3806\u001b[0m \u001b[39mif\u001b[39;00m is_integer(indexer):\n\u001b[0;32m   3807\u001b[0m     indexer \u001b[39m=\u001b[39m [indexer]\n",
      "File \u001b[1;32mc:\\Users\\lucad\\AppData\\Local\\Programs\\Python\\Python311\\Lib\\site-packages\\pandas\\core\\indexes\\base.py:3805\u001b[0m, in \u001b[0;36mIndex.get_loc\u001b[1;34m(self, key, method, tolerance)\u001b[0m\n\u001b[0;32m   3803\u001b[0m     \u001b[39mreturn\u001b[39;00m \u001b[39mself\u001b[39m\u001b[39m.\u001b[39m_engine\u001b[39m.\u001b[39mget_loc(casted_key)\n\u001b[0;32m   3804\u001b[0m \u001b[39mexcept\u001b[39;00m \u001b[39mKeyError\u001b[39;00m \u001b[39mas\u001b[39;00m err:\n\u001b[1;32m-> 3805\u001b[0m     \u001b[39mraise\u001b[39;00m \u001b[39mKeyError\u001b[39;00m(key) \u001b[39mfrom\u001b[39;00m \u001b[39merr\u001b[39;00m\n\u001b[0;32m   3806\u001b[0m \u001b[39mexcept\u001b[39;00m \u001b[39mTypeError\u001b[39;00m:\n\u001b[0;32m   3807\u001b[0m     \u001b[39m# If we have a listlike key, _check_indexing_error will raise\u001b[39;00m\n\u001b[0;32m   3808\u001b[0m     \u001b[39m#  InvalidIndexError. Otherwise we fall through and re-raise\u001b[39;00m\n\u001b[0;32m   3809\u001b[0m     \u001b[39m#  the TypeError.\u001b[39;00m\n\u001b[0;32m   3810\u001b[0m     \u001b[39mself\u001b[39m\u001b[39m.\u001b[39m_check_indexing_error(key)\n",
      "\u001b[1;31mKeyError\u001b[0m: 'data'"
     ]
    }
   ],
   "source": [
    "df_semNulo['data'] = pd.to_datetime(df_semNulo['data'], format='%d/%m')"
   ]
  },
  {
   "cell_type": "code",
   "execution_count": null,
   "metadata": {},
   "outputs": [
    {
     "name": "stdout",
     "output_type": "stream",
     "text": [
      "<class 'pandas.core.frame.DataFrame'>\n",
      "Int64Index: 298 entries, 0 to 309\n",
      "Data columns (total 11 columns):\n",
      " #   Column           Non-Null Count  Dtype         \n",
      "---  ------           --------------  -----         \n",
      " 0   data             298 non-null    datetime64[ns]\n",
      " 1   hora             298 non-null    object        \n",
      " 2   time_casa        298 non-null    object        \n",
      " 3   time_visitante   298 non-null    object        \n",
      " 4   casa_ganha       298 non-null    float64       \n",
      " 5   empate           298 non-null    float64       \n",
      " 6   visitante_ganha  298 non-null    float64       \n",
      " 7   maisq            293 non-null    float64       \n",
      " 8   menosq           293 non-null    float64       \n",
      " 9   simodd           282 non-null    float64       \n",
      " 10  nãoodd           282 non-null    float64       \n",
      "dtypes: datetime64[ns](1), float64(7), object(3)\n",
      "memory usage: 27.9+ KB\n"
     ]
    }
   ],
   "source": [
    "df_semNulo.info()"
   ]
  },
  {
   "attachments": {},
   "cell_type": "markdown",
   "metadata": {},
   "source": [
    "## Analise dos dados\n",
    "- Buscando outliers\n",
    "- Verificando as distribuições\n",
    "- Buscar relações entre variaveis"
   ]
  },
  {
   "cell_type": "code",
   "execution_count": 22,
   "metadata": {},
   "outputs": [],
   "source": [
    "import seaborn as sns\n",
    "import matplotlib.pyplot as plt"
   ]
  },
  {
   "cell_type": "code",
   "execution_count": 23,
   "metadata": {},
   "outputs": [
    {
     "data": {
      "text/plain": [
       "<seaborn.axisgrid.JointGrid at 0x2c42ac48050>"
      ]
     },
     "execution_count": 23,
     "metadata": {},
     "output_type": "execute_result"
    },
    {
     "data": {
      "image/png": "[encoded data removed]",
      "text/plain": [
       "<Figure size 600x600 with 3 Axes>"
      ]
     },
     "metadata": {},
     "output_type": "display_data"
    }
   ],
   "source": [
    "sns.jointplot(data=df_semNulo)"
   ]
  },
  {
   "cell_type": "code",
   "execution_count": 24,
   "metadata": {},
   "outputs": [
    {
     "data": {
      "text/plain": [
       "<AxesSubplot: >"
      ]
     },
     "execution_count": 24,
     "metadata": {},
     "output_type": "execute_result"
    },
    {
     "data": {
      "image/png": "[encoded data removed]",
      "text/plain": [
       "<Figure size 1500x500 with 1 Axes>"
      ]
     },
     "metadata": {},
     "output_type": "display_data"
    }
   ],
   "source": [
    "plt.figure(figsize=(15,5))\n",
    "sns.scatterplot(data=df_semNulo)"
   ]
  },
  {
   "cell_type": "code",
   "execution_count": 25,
   "metadata": {},
   "outputs": [
    {
     "data": {
      "text/plain": [
       "<AxesSubplot: >"
      ]
     },
     "execution_count": 25,
     "metadata": {},
     "output_type": "execute_result"
    },
    {
     "data": {
      "image/png": "[encoded data removed]",
      "text/plain": [
       "<Figure size 1000x500 with 1 Axes>"
      ]
     },
     "metadata": {},
     "output_type": "display_data"
    }
   ],
   "source": [
    "plt.figure(figsize=(10,5))\n",
    "sns.boxplot(data=df_semNulo)"
   ]
  },
  {
   "attachments": {},
   "cell_type": "markdown",
   "metadata": {},
   "source": [
    "Existem muitos outliers, esses representam valores onde as odds foram muito altas (além do \"normal\")\n",
    "Vamos analisar primeiro se essas odds podem atrapalhar no surebet e caso ocorro vamos remover"
   ]
  },
  {
   "cell_type": "code",
   "execution_count": 26,
   "metadata": {},
   "outputs": [],
   "source": [
    "# Por fim salvando o dataset\n",
    "df_semNulo.to_csv('dados/dados tratados/jogos_betfair_tratado.csv')"
   ]
  }
 ],
 "metadata": {
  "kernelspec": {
   "display_name": "Python 3",
   "language": "python",
   "name": "python3"
  },
  "language_info": {
   "codemirror_mode": {
    "name": "ipython",
    "version": 3
   },
   "file_extension": ".py",
   "mimetype": "text/x-python",
   "name": "python",
   "nbconvert_exporter": "python",
   "pygments_lexer": "ipython3",
   "version": "3.11.1"
  },
  "orig_nbformat": 4,
  "vscode": {
   "interpreter": {
    "hash": "acf27565f49a9be31e18deb3717ed27f0a9545537876d17ecb2545820aa9aa9a"
   }
  }
 },
 "nbformat": 4,
 "nbformat_minor": 2
}
